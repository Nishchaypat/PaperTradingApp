{
 "cells": [
  {
   "cell_type": "code",
   "execution_count": 0,
   "metadata": {
    "application/vnd.databricks.v1+cell": {
     "cellMetadata": {},
     "inputWidgets": {},
     "nuid": "555041cd-17db-4c78-9abf-2c7c128cd63b",
     "showTitle": false,
     "tableResultSettingsMap": {},
     "title": ""
    }
   },
   "outputs": [],
   "source": [
    "from pyspark.sql import SparkSession\n",
    "import pyspark.sql.functions as F\n",
    "from utils.ingestUtility import *\n",
    "import yfinance as yf\n",
    "import pandas as pd"
   ]
  },
  {
   "cell_type": "code",
   "execution_count": 0,
   "metadata": {
    "application/vnd.databricks.v1+cell": {
     "cellMetadata": {},
     "inputWidgets": {},
     "nuid": "8e6de713-93f3-400b-82df-0099f61262d1",
     "showTitle": false,
     "tableResultSettingsMap": {},
     "title": ""
    }
   },
   "outputs": [],
   "source": [
    "# manual stock ingest\n",
    "\n",
    "symbol = \"PLTR\"\n",
    "data = yf.download([symbol], period='5y')\n",
    "if isinstance(data.columns, pd.MultiIndex):  \n",
    "    data.columns = data.columns.droplevel(0) \n",
    "\n",
    "data.columns = ['Close', 'High', 'Low', 'Open', 'Volume']\n",
    "data.reset_index(inplace=True)\n",
    "data = data[['Date', 'Close', 'High', 'Low', 'Open', 'Volume']]\n",
    "print(data.head())\n",
    "df = spark.createDataFrame(data)\n",
    "df = df.withColumn(\"Ticker\", F.lit(f\"{symbol}\"))\n",
    "df = df.withColumn(\"date\", to_date(col(\"Date\"), \"yyyy-MM-dd\"))\n",
    "\n",
    "df.display()\n",
    "writeToDataLake(df, f\"/mnt/data/Historical/raw/{symbol}_data\", \"overwrite\")\n",
    "renameOutputFile(f\"/mnt/data/Historical/raw/{symbol}_data\")"
   ]
  },
  {
   "cell_type": "code",
   "execution_count": 0,
   "metadata": {
    "application/vnd.databricks.v1+cell": {
     "cellMetadata": {},
     "inputWidgets": {},
     "nuid": "d1be5802-929f-4fd3-99e6-a65e573b7469",
     "showTitle": false,
     "tableResultSettingsMap": {},
     "title": ""
    }
   },
   "outputs": [],
   "source": [
    "df_delta = csvReadNoSchema(f\"/mnt/data/Historical/raw/{symbol}_data\")\n",
    "df_delta.write.format(\"delta\").mode(\"append\").saveAsTable(\"pprtrading.stocks_historical\")"
   ]
  }
 ],
 "metadata": {
  "application/vnd.databricks.v1+notebook": {
   "computePreferences": null,
   "dashboards": [],
   "environmentMetadata": {
    "base_environment": "",
    "environment_version": "2"
   },
   "language": "python",
   "notebookMetadata": {
    "pythonIndentUnit": 4
   },
   "notebookName": "Historical Ticker Data",
   "widgets": {}
  },
  "language_info": {
   "name": "python"
  }
 },
 "nbformat": 4,
 "nbformat_minor": 0
}
