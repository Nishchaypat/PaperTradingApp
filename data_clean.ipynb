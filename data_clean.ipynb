{
 "cells": [
  {
   "cell_type": "code",
   "execution_count": 16,
   "metadata": {},
   "outputs": [],
   "source": [
    "import pandas as pd\n",
    "\n",
    "def load_data_from_csv(filepath='AAPL_data.csv'):\n",
    "    data = pd.read_csv(filepath, parse_dates=True)\n",
    "    return data\n"
   ]
  },
  {
   "cell_type": "code",
   "execution_count": 17,
   "metadata": {},
   "outputs": [
    {
     "name": "stdout",
     "output_type": "stream",
     "text": [
      "         Date       Close        High         Low        Open     Volume\n",
      "0  2024-03-20  177.830307  177.830307  174.267130  174.894174   53423100\n",
      "1  2024-03-21  170.564606  176.655854  170.037098  176.217919  106181300\n",
      "2  2024-03-22  171.470352  172.236738  169.260784  170.952792   71106600\n",
      "3  2024-03-25  170.047073  171.131947  168.653644  169.768390   54288300\n",
      "4  2024-03-26  168.912430  170.614385  168.783036  169.201060   57388400\n"
     ]
    }
   ],
   "source": [
    "data = load_data_from_csv()\n",
    "print(data.head(5))"
   ]
  }
 ],
 "metadata": {
  "kernelspec": {
   "display_name": "trading",
   "language": "python",
   "name": "python3"
  },
  "language_info": {
   "codemirror_mode": {
    "name": "ipython",
    "version": 3
   },
   "file_extension": ".py",
   "mimetype": "text/x-python",
   "name": "python",
   "nbconvert_exporter": "python",
   "pygments_lexer": "ipython3",
   "version": "3.11.11"
  }
 },
 "nbformat": 4,
 "nbformat_minor": 2
}
