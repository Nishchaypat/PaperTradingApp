{
 "cells": [
  {
   "cell_type": "code",
   "execution_count": 0,
   "metadata": {
    "application/vnd.databricks.v1+cell": {
     "cellMetadata": {
      "byteLimit": 2048000,
      "rowLimit": 10000
     },
     "inputWidgets": {},
     "nuid": "8ce92a98-79b2-48fc-91cc-eb74ee9b2d3c",
     "showTitle": false,
     "tableResultSettingsMap": {},
     "title": ""
    }
   },
   "outputs": [],
   "source": [
    "from pyspark.sql import SparkSession\n",
    "import pyspark.sql.functions as F\n",
    "from utils.ingestUtility import *\n",
    "import yfinance as yf\n",
    "import pandas as pd"
   ]
  },
  {
   "cell_type": "code",
   "execution_count": 0,
   "metadata": {
    "application/vnd.databricks.v1+cell": {
     "cellMetadata": {
      "byteLimit": 2048000,
      "rowLimit": 10000
     },
     "inputWidgets": {},
     "nuid": "b1bf932d-7b21-404a-be7f-cf74f5fd66da",
     "showTitle": false,
     "tableResultSettingsMap": {},
     "title": ""
    }
   },
   "outputs": [],
   "source": [
    "symbols = [\n",
    "    \"AAPL\", \"META\", \"TSLA\", \"GOOG\", \"NFLX\",\n",
    "    \"GOOGL\", \"WMT\", \"AMD\", \"AMZN\", \"MSFT\",\n",
    "    \"NVDA\", \"DIS\", \"KO\", \"PLTR\"\n",
    "]\n",
    "\n",
    "all_data = []\n",
    "\n",
    "for symbol in symbols:\n",
    "    data = yf.download(symbol, period='1d')\n",
    "    if isinstance(data.columns, pd.MultiIndex):\n",
    "        data.columns = data.columns.droplevel(0)\n",
    "    data.columns = ['Close', 'High', 'Low', 'Open', 'Volume']\n",
    "    data.reset_index(inplace=True)\n",
    "    data = data[['Date', 'Close', 'High', 'Low', 'Open', 'Volume']]\n",
    "    data['Ticker'] = symbol\n",
    "    all_data.append(data)\n",
    "\n",
    "final_df = pd.concat(all_data, ignore_index=True)\n",
    "\n",
    "print(final_df)"
   ]
  },
  {
   "cell_type": "code",
   "execution_count": 0,
   "metadata": {
    "application/vnd.databricks.v1+cell": {
     "cellMetadata": {
      "byteLimit": 2048000,
      "rowLimit": 10000
     },
     "inputWidgets": {},
     "nuid": "e4131b75-69fd-4b63-a96c-b6827a0640c4",
     "showTitle": false,
     "tableResultSettingsMap": {},
     "title": ""
    }
   },
   "outputs": [],
   "source": [
    "df = spark.createDataFrame(final_df)\n",
    "df = df.withColumn(\"date\", F.to_date(F.col(\"Date\"), \"yyyy-MM-dd\"))\n",
    "display(df)"
   ]
  },
  {
   "cell_type": "code",
   "execution_count": 0,
   "metadata": {
    "application/vnd.databricks.v1+cell": {
     "cellMetadata": {
      "byteLimit": 2048000,
      "rowLimit": 10000
     },
     "inputWidgets": {},
     "nuid": "8f039a15-77f6-44a1-8905-cea172453980",
     "showTitle": false,
     "tableResultSettingsMap": {},
     "title": ""
    }
   },
   "outputs": [],
   "source": [
    "df.write.format(\"delta\").mode(\"append\").saveAsTable(\"pprtrading.stocks_data\")"
   ]
  }
 ],
 "metadata": {
  "application/vnd.databricks.v1+notebook": {
   "computePreferences": null,
   "dashboards": [],
   "environmentMetadata": {
    "base_environment": "",
    "environment_version": "2"
   },
   "language": "python",
   "notebookMetadata": {
    "mostRecentlyExecutedCommandWithImplicitDF": {
     "commandId": 3496067700455020,
     "dataframes": [
      "_sqldf"
     ]
    },
    "pythonIndentUnit": 4
   },
   "notebookName": "DailyDataIngest",
   "widgets": {}
  },
  "language_info": {
   "name": "python"
  }
 },
 "nbformat": 4,
 "nbformat_minor": 0
}
